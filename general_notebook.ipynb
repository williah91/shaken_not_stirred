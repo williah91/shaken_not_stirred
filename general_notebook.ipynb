{
 "cells": [
  {
   "cell_type": "code",
   "execution_count": 22,
   "metadata": {},
   "outputs": [
    {
     "name": "stdout",
     "output_type": "stream",
     "text": [
      "Added circular current to simulation.\n"
     ]
    }
   ],
   "source": [
    "from fluid import fluidsim\n"
   ]
  },
  {
   "cell_type": "code",
   "execution_count": 27,
   "metadata": {},
   "outputs": [
    {
     "name": "stdout",
     "output_type": "stream",
     "text": [
      "\u001b[0;31mSignature:\u001b[0m \u001b[0mlaplace\u001b[0m\u001b[0;34m(\u001b[0m\u001b[0minput\u001b[0m\u001b[0;34m,\u001b[0m \u001b[0moutput\u001b[0m\u001b[0;34m=\u001b[0m\u001b[0;32mNone\u001b[0m\u001b[0;34m,\u001b[0m \u001b[0mmode\u001b[0m\u001b[0;34m=\u001b[0m\u001b[0;34m'reflect'\u001b[0m\u001b[0;34m,\u001b[0m \u001b[0mcval\u001b[0m\u001b[0;34m=\u001b[0m\u001b[0;36m0.0\u001b[0m\u001b[0;34m)\u001b[0m\u001b[0;34m\u001b[0m\u001b[0;34m\u001b[0m\u001b[0m\n",
      "\u001b[0;31mDocstring:\u001b[0m\n",
      "N-D Laplace filter based on approximate second derivatives.\n",
      "\n",
      "Parameters\n",
      "----------\n",
      "input : array_like\n",
      "    The input array.\n",
      "output : array or dtype, optional\n",
      "    The array in which to place the output, or the dtype of the\n",
      "    returned array. By default an array of the same dtype as input\n",
      "    will be created.\n",
      "mode : str or sequence, optional\n",
      "    The `mode` parameter determines how the input array is extended\n",
      "    when the filter overlaps a border. By passing a sequence of modes\n",
      "    with length equal to the number of dimensions of the input array,\n",
      "    different modes can be specified along each axis. Default value is\n",
      "    'reflect'. The valid values and their behavior is as follows:\n",
      "\n",
      "    'reflect' (`d c b a | a b c d | d c b a`)\n",
      "        The input is extended by reflecting about the edge of the last\n",
      "        pixel. This mode is also sometimes referred to as half-sample\n",
      "        symmetric.\n",
      "\n",
      "    'constant' (`k k k k | a b c d | k k k k`)\n",
      "        The input is extended by filling all values beyond the edge with\n",
      "        the same constant value, defined by the `cval` parameter.\n",
      "\n",
      "    'nearest' (`a a a a | a b c d | d d d d`)\n",
      "        The input is extended by replicating the last pixel.\n",
      "\n",
      "    'mirror' (`d c b | a b c d | c b a`)\n",
      "        The input is extended by reflecting about the center of the last\n",
      "        pixel. This mode is also sometimes referred to as whole-sample\n",
      "        symmetric.\n",
      "\n",
      "    'wrap' (`a b c d | a b c d | a b c d`)\n",
      "        The input is extended by wrapping around to the opposite edge.\n",
      "\n",
      "    For consistency with the interpolation functions, the following mode\n",
      "    names can also be used:\n",
      "\n",
      "    'grid-constant'\n",
      "        This is a synonym for 'constant'.\n",
      "\n",
      "    'grid-mirror'\n",
      "        This is a synonym for 'reflect'.\n",
      "\n",
      "    'grid-wrap'\n",
      "        This is a synonym for 'wrap'.\n",
      "cval : scalar, optional\n",
      "    Value to fill past edges of input if `mode` is 'constant'. Default\n",
      "    is 0.0.\n",
      "\n",
      "Examples\n",
      "--------\n",
      ">>> from scipy import ndimage, misc\n",
      ">>> import matplotlib.pyplot as plt\n",
      ">>> fig = plt.figure()\n",
      ">>> plt.gray()  # show the filtered result in grayscale\n",
      ">>> ax1 = fig.add_subplot(121)  # left side\n",
      ">>> ax2 = fig.add_subplot(122)  # right side\n",
      ">>> ascent = misc.ascent()\n",
      ">>> result = ndimage.laplace(ascent)\n",
      ">>> ax1.imshow(ascent)\n",
      ">>> ax2.imshow(result)\n",
      ">>> plt.show()\n",
      "\u001b[0;31mFile:\u001b[0m      ~/opt/anaconda3/lib/python3.9/site-packages/scipy/ndimage/_filters.py\n",
      "\u001b[0;31mType:\u001b[0m      function\n"
     ]
    }
   ],
   "source": [
    "from scipy.ndimage import gaussian_filter\n",
    "?gaussian_filter\n",
    "from scipy.ndimage import laplace\n",
    "?laplace"
   ]
  },
  {
   "cell_type": "code",
   "execution_count": null,
   "metadata": {},
   "outputs": [
    {
     "data": {
      "image/png": "[encoded data removed]",
      "text/plain": [
       "<Figure size 640x480 with 2 Axes>"
      ]
     },
     "metadata": {},
     "output_type": "display_data"
    },
    {
     "data": {
      "image/png": "[encoded data removed]",
      "text/plain": [
       "<Figure size 640x480 with 1 Axes>"
      ]
     },
     "metadata": {},
     "output_type": "display_data"
    }
   ],
   "source": [
    "import numpy as np\n",
    "from scipy.ndimage import gaussian_filter\n",
    "import matplotlib.pyplot as plt\n",
    "\n",
    "class vector_field:\n",
    "    def __init__(self, diffusion):\n",
    "        self.boundary = None\n",
    "\n",
    "\n",
    "class shaken_not_stirred:\n",
    "    def __init__(self, diffusion, gridSize=100, timeStep=0.01):\n",
    "        self.diffusion = diffusion\n",
    "        self.gridSize = gridSize\n",
    "        self.dt = timeStep\n",
    "        self.grid = self.create_grid()\n",
    "        self.drop_fluid(50, 50)\n",
    "\n",
    "    def drop_fluid(self, x, y):\n",
    "        \"\"\"\n",
    "        Drop a fluid modeled by a Gaussian at coordinates x, y in the grid\n",
    "        \"\"\"\n",
    "        for i in range(self.gridSize):\n",
    "            for j in range(self.gridSize):\n",
    "                distance_squared = (i - x) ** 2 + (j - y) ** 2\n",
    "                self.grid[i, j] += np.exp(-distance_squared / (2 * (self.gridSize * 0.05) ** 2))\n",
    "\n",
    "    def create_grid(self):\n",
    "        \"\"\"\n",
    "        Create a grid of size gridSize x gridSize with all values initialized to 0\n",
    "        \"\"\"\n",
    "        return np.zeros((self.gridSize, self.gridSize))\n",
    "\n",
    "    def update_vector_position(self, x, y):\n",
    "        \"\"\"\n",
    "        Update the position of the vector in the grid\n",
    "        \"\"\"\n",
    "        pass\n",
    "\n",
    "    def update_diffusion_initial(self):\n",
    "        \"\"\"\n",
    "        Update the grid using the diffusion equation\n",
    "        and finite difference method.\n",
    "        \"\"\"\n",
    "        dx = 1  # Assuming a grid spacing of 1 for simplicity\n",
    "        laplacian = (\n",
    "            np.roll(self.grid, 1, axis=0) + np.roll(self.grid, -1, axis=0) +\n",
    "            np.roll(self.grid, 1, axis=1) + np.roll(self.grid, -1, axis=1) -\n",
    "            4 * self.grid\n",
    "        ) / dx**2\n",
    "\n",
    "        self.grid = self.grid + self.diffusion * self.dt * laplacian\n",
    "\n",
    "    def update_diffusion_laplace(self):\n",
    "        \"\"\"\n",
    "        Update the grid using the diffusion equation\n",
    "        and finite difference method.\n",
    "        \"\"\"\n",
    "        dx = 1  # Assuming a grid spacing of 1 for simplicity\n",
    "        laplacian = laplace(self.grid, mode='wrap') / dx**2\n",
    "        self.grid = self.grid + self.diffusion * self.dt * laplacian\n",
    "\n",
    "    def update_diffusion_gauss(self):\n",
    "        \"\"\"\n",
    "        Update the grid using a Gaussian filter for diffusion\n",
    "        \"\"\"\n",
    "        self.grid = gaussian_filter(self.grid, sigma=0.1)\n",
    "\n",
    "    def plot(self):\n",
    "        \"\"\"\n",
    "        Plot the grid using matplotlib\n",
    "        \"\"\"\n",
    "        plt.imshow(self.grid, cmap='hot', interpolation='nearest')\n",
    "        plt.colorbar()\n",
    "        plt.show()\n",
    "\n",
    "    def plot_distribution(self):\n",
    "        \"\"\"\n",
    "        Plot the distribution of the grid\n",
    "        \"\"\"\n",
    "        plt.hist(self.grid.flatten(), bins=50)\n",
    "        plt.show()\n",
    "\n",
    "\n",
    "# Ensure the code works with the existing variables in the notebook\n",
    "if __name__ == \"__main__\":\n",
    "    simulation = shaken_not_stirred(diffusion, gridSize, timeStep)\n",
    "    for _ in range(500 - i):  # Continue the simulation from the current state\n",
    "        simulation.update_diffusion_initial()\n",
    "    simulation.plot()\n",
    "    simulation.plot_distribution()\n"
   ]
  },
  {
   "cell_type": "code",
   "execution_count": null,
   "metadata": {},
   "outputs": [],
   "source": []
  }
 ],
 "metadata": {
  "kernelspec": {
   "display_name": "base",
   "language": "python",
   "name": "python3"
  },
  "language_info": {
   "codemirror_mode": {
    "name": "ipython",
    "version": 3
   },
   "file_extension": ".py",
   "mimetype": "text/x-python",
   "name": "python",
   "nbconvert_exporter": "python",
   "pygments_lexer": "ipython3",
   "version": "3.9.13"
  }
 },
 "nbformat": 4,
 "nbformat_minor": 2
}
